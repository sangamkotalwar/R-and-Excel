{
 "cells": [
  {
   "cell_type": "code",
   "execution_count": null,
   "metadata": {},
   "outputs": [],
   "source": [
    "import numpy as np\n",
    "import pandas as pd\n",
    "import random\n",
    "import csv\n",
    "n1 = 100000000\n",
    "x1 = np.array(range(1,n1+1))\n",
    "x2 = np.random.uniform(5,95,(n1,))\n",
    "x3 = np.random.binomial(1,.4,n1)\n",
    "x4 = np.random.normal(-30, 200, n1)\n",
    "x5 = np.random.uniform(-5000,5000,(n1,))\n",
    "b0 = 17\n",
    "b1 = -0.466\n",
    "b2 = 0.037\n",
    "b3 = -5.2 \n",
    "b4 = 2\n",
    "b5 = 0.008762\n",
    "sigma = 1.4\n",
    "epsilon = np.random.normal(0,sigma,100000000)\n",
    "y = b0 + b1*x1 + b2*x2 + b3*x3 + b4*x4 + b5*x5 + x1*x2 + epsilon\n",
    "data14_4 = list(zip(y,x1,x2,x3,x4,x5))\n",
    "with open('data14_4.csv', 'w') as csvfile:\n",
    "    writer = csv.writer(csvfile)\n",
    "    [writer.writerow(r) for r in data14_4]"
   ]
  }
 ],
 "metadata": {
  "kernelspec": {
   "display_name": "Python 3",
   "language": "python",
   "name": "python3"
  },
  "language_info": {
   "codemirror_mode": {
    "name": "ipython",
    "version": 3
   },
   "file_extension": ".py",
   "mimetype": "text/x-python",
   "name": "python",
   "nbconvert_exporter": "python",
   "pygments_lexer": "ipython3",
   "version": "3.6.5"
  }
 },
 "nbformat": 4,
 "nbformat_minor": 2
}
